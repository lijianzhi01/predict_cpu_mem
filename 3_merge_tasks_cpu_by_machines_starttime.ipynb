{
 "cells": [
  {
   "cell_type": "code",
   "execution_count": 2,
   "id": "68f15ac7-11e9-4c5e-8c62-dd329f5c67d8",
   "metadata": {},
   "outputs": [
    {
     "name": "stdout",
     "output_type": "stream",
     "text": [
      "           start_time  machine_id  maximum_cpu_usage\n",
      "0 2011-05-01 00:10:00      381129           0.909131\n",
      "1 2011-05-01 00:10:00      765912           0.539429\n",
      "2 2011-05-01 00:10:00      988136           0.603597\n",
      "3 2011-05-01 00:10:00     1093461           0.022890\n",
      "4 2011-05-01 00:10:00     1095048           0.689765\n"
     ]
    }
   ],
   "source": [
    "import pandas as pd  \n",
    "  \n",
    "# Load the task_of_100_machines.csv file  \n",
    "df = pd.read_csv('task_of_100_machines.csv')  \n",
    "  \n",
    "# Convert start_time from microseconds to datetime  \n",
    "trace_start = pd.Timestamp('2011-05-01 00:00:00')  \n",
    "df['start_time'] = df['start_time'].apply(lambda x: trace_start + pd.Timedelta(microseconds=x))  \n",
    "  \n",
    "# Drop the end_time column  \n",
    "df = df.drop('end_time', axis=1)  \n",
    "  \n",
    "# Group by start_time and machine_id, and sum the maximum_cpu_usage  \n",
    "df_grouped = df.groupby(['start_time', 'machine_id'])['maximum_cpu_usage'].sum().reset_index()  \n",
    "\n",
    "df_grouped.to_csv('cpu_usage_per_machine.csv', index=False)  \n",
    "# Print the result  \n",
    "print(df_grouped.head(5))  "
   ]
  },
  {
   "cell_type": "code",
   "execution_count": null,
   "id": "32243f95-916b-48a4-a6a0-fba70987e79d",
   "metadata": {},
   "outputs": [],
   "source": []
  }
 ],
 "metadata": {
  "kernelspec": {
   "display_name": "Python 3 (ipykernel)",
   "language": "python",
   "name": "python3"
  },
  "language_info": {
   "codemirror_mode": {
    "name": "ipython",
    "version": 3
   },
   "file_extension": ".py",
   "mimetype": "text/x-python",
   "name": "python",
   "nbconvert_exporter": "python",
   "pygments_lexer": "ipython3",
   "version": "3.11.7"
  }
 },
 "nbformat": 4,
 "nbformat_minor": 5
}
