{
 "cells": [
  {
   "cell_type": "code",
   "execution_count": 2,
   "id": "2f8bcbe3-b85b-4e47-bc71-bda56b99eb52",
   "metadata": {},
   "outputs": [],
   "source": [
    "import pandas as pd  \n",
    "  \n",
    "# Load the cpu_usage_per_machine.csv file  \n",
    "df = pd.read_csv('cpu_usage_per_machine.csv')  \n",
    "  \n",
    "# Convert start_time from string to datetime  \n",
    "df['start_time'] = pd.to_datetime(df['start_time'])  \n",
    "  \n",
    "# Set start_time as the DataFrame's index  \n",
    "df.set_index('start_time', inplace=True)  \n",
    "  \n",
    "# Get the list of unique machines  \n",
    "machines = df['machine_id'].unique()  \n",
    "  \n",
    "# Create an empty DataFrame to store the resampled data  \n",
    "df_resampled = pd.DataFrame()  \n",
    "  \n",
    "# Resample the DataFrame at a 10-minute interval for each machine  \n",
    "for machine in machines:  \n",
    "    df_machine = df[df['machine_id'] == machine]  \n",
    "    df_machine_resampled = df_machine.resample('10Min').mean().fillna(0)  \n",
    "    df_machine_resampled['machine_id'] = machine  \n",
    "    df_resampled = pd.concat([df_resampled, df_machine_resampled])  \n",
    "  \n",
    "# Get the count of records for each machine after resampling  \n",
    "machine_record_counts = df_resampled.groupby('machine_id').size()  \n",
    "  \n",
    "# Create a mask for machines with record count of 4176  \n",
    "mask = machine_record_counts == 4176  \n",
    "  \n",
    "# Filter the DataFrame using the mask  \n",
    "df_resampled = df_resampled[df_resampled['machine_id'].isin(mask[mask].index)]  \n",
    "  \n",
    "# Reset the index  \n",
    "df_resampled.reset_index(inplace=True)  \n",
    "  \n",
    "# Save the resampled DataFrame to a new CSV file  \n",
    "df_resampled.to_csv('resampled_cpu_usage_per_machine.csv', index=False)  \n"
   ]
  },
  {
   "cell_type": "code",
   "execution_count": null,
   "id": "f92787f1-52bc-4ea1-802c-3fafb0b8b943",
   "metadata": {},
   "outputs": [],
   "source": []
  }
 ],
 "metadata": {
  "kernelspec": {
   "display_name": "Python 3 (ipykernel)",
   "language": "python",
   "name": "python3"
  },
  "language_info": {
   "codemirror_mode": {
    "name": "ipython",
    "version": 3
   },
   "file_extension": ".py",
   "mimetype": "text/x-python",
   "name": "python",
   "nbconvert_exporter": "python",
   "pygments_lexer": "ipython3",
   "version": "3.11.7"
  }
 },
 "nbformat": 4,
 "nbformat_minor": 5
}
